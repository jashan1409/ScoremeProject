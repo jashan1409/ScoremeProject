{
  "nbformat": 4,
  "nbformat_minor": 0,
  "metadata": {
    "colab": {
      "provenance": []
    },
    "kernelspec": {
      "name": "python3",
      "display_name": "Python 3"
    },
    "language_info": {
      "name": "python"
    }
  },
  "cells": [
    {
      "cell_type": "code",
      "execution_count": 4,
      "metadata": {
        "colab": {
          "base_uri": "https://localhost:8080/"
        },
        "id": "iBRUMdz9v45t",
        "outputId": "8d3797ec-fcb6-46d3-ba4d-7f418f64ff32"
      },
      "outputs": [
        {
          "output_type": "stream",
          "name": "stdout",
          "text": [
            "Tables extracted and saved to /content/drive/MyDrive/test3.xlsx.\n"
          ]
        }
      ],
      "source": [
        "import PyPDF2\n",
        "import openpyxl\n",
        "import re\n",
        "\n",
        "# Function to extract text from PDF\n",
        "def extract_text_from_pdf(pdf_path):\n",
        "    with open(pdf_path, 'rb') as file:\n",
        "        reader = PyPDF2.PdfReader(file)\n",
        "        text = \"\"\n",
        "        for page in reader.pages:\n",
        "            text += page.extract_text()\n",
        "        return text\n",
        "\n",
        "# Function to parse and structure tables from text\n",
        "def parse_tables(text):\n",
        "    lines = text.split(\"\\n\")\n",
        "    tables = []\n",
        "    table = []\n",
        "    headers = [\"Date\", \"Description\", \"Amount\", \"Balance\"]  # Recognized headers\n",
        "    for line in lines:\n",
        "        if any(header in line for header in headers):  # Identify new table header\n",
        "            if table:  # Save the existing table before starting a new one\n",
        "                tables.append(table)\n",
        "                table = []\n",
        "            table.append(line.split())  # Add header row\n",
        "        elif not line.strip():  # Empty line signals end of a table\n",
        "            if table:\n",
        "                tables.append(table)\n",
        "                table = []\n",
        "        else:\n",
        "            table.append(line.split())  # Add data row\n",
        "    if table:  # Append the last table if it exists\n",
        "        tables.append(table)\n",
        "    return tables\n",
        "\n",
        "# Function to clean special characters from data\n",
        "def clean_data(cell):\n",
        "    return re.sub(r'[^\\x20-\\x7E]', '', cell)  # Remove disallowed or special characters\n",
        "\n",
        "# Function to write data into Excel\n",
        "def write_to_excel(tables, excel_path):\n",
        "    workbook = openpyxl.Workbook()\n",
        "    sheet = workbook.active\n",
        "    sheet.title = \"Extracted Tables\"\n",
        "\n",
        "    for table in tables:\n",
        "        for row in table:\n",
        "            cleaned_row = [clean_data(cell) for cell in row]\n",
        "            sheet.append(cleaned_row)\n",
        "        sheet.append([])  # Add an empty row between tables for clarity\n",
        "\n",
        "    workbook.save(excel_path)\n",
        "\n",
        "# Main script\n",
        "pdf_path = \"/content/drive/MyDrive/test3.pdf\"  # Replace with your PDF file path\n",
        "excel_path = \"/content/drive/MyDrive/test3.xlsx\"  # Replace with desired Excel output path\n",
        "\n",
        "# Step-by-step execution\n",
        "text = extract_text_from_pdf(pdf_path)  # Extract text from PDF\n",
        "tables = parse_tables(text)  # Parse tables from extracted text\n",
        "write_to_excel(tables, excel_path)  # Write tables into Excel\n",
        "\n",
        "print(f\"Tables extracted and saved to {excel_path}.\")\n"
      ]
    },
    {
      "cell_type": "code",
      "source": [
        "pip install PyPDF2"
      ],
      "metadata": {
        "colab": {
          "base_uri": "https://localhost:8080/"
        },
        "id": "POs0sJD7wEQ-",
        "outputId": "a5dde409-8de9-44f3-f643-c54e20c601dc"
      },
      "execution_count": 2,
      "outputs": [
        {
          "output_type": "stream",
          "name": "stdout",
          "text": [
            "Collecting PyPDF2\n",
            "  Downloading pypdf2-3.0.1-py3-none-any.whl.metadata (6.8 kB)\n",
            "Downloading pypdf2-3.0.1-py3-none-any.whl (232 kB)\n",
            "\u001b[?25l   \u001b[90m━━━━━━━━━━━━━━━━━━━━━━━━━━━━━━━━━━━━━━━━\u001b[0m \u001b[32m0.0/232.6 kB\u001b[0m \u001b[31m?\u001b[0m eta \u001b[36m-:--:--\u001b[0m\r\u001b[2K   \u001b[91m━━━━━━━━━━━━━━━━━━━━━━━━━━━━━\u001b[0m\u001b[91m╸\u001b[0m\u001b[90m━━━━━━━━━━\u001b[0m \u001b[32m174.1/232.6 kB\u001b[0m \u001b[31m5.2 MB/s\u001b[0m eta \u001b[36m0:00:01\u001b[0m\r\u001b[2K   \u001b[90m━━━━━━━━━━━━━━━━━━━━━━━━━━━━━━━━━━━━━━━━\u001b[0m \u001b[32m232.6/232.6 kB\u001b[0m \u001b[31m4.0 MB/s\u001b[0m eta \u001b[36m0:00:00\u001b[0m\n",
            "\u001b[?25hInstalling collected packages: PyPDF2\n",
            "Successfully installed PyPDF2-3.0.1\n"
          ]
        }
      ]
    },
    {
      "cell_type": "code",
      "source": [],
      "metadata": {
        "id": "j0e8GxjQwGdP"
      },
      "execution_count": null,
      "outputs": []
    }
  ]
}